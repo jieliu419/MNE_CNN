{
  "nbformat": 4,
  "nbformat_minor": 0,
  "metadata": {
    "colab": {
      "name": "EEG_CNN.ipynb",
      "provenance": [],
      "collapsed_sections": []
    },
    "kernelspec": {
      "name": "python3",
      "display_name": "Python 3"
    }
  },
  "cells": [
    {
      "cell_type": "code",
      "metadata": {
        "id": "skpGBzMJAAGa",
        "colab_type": "code",
        "outputId": "edac25c3-bb2a-4095-d73c-48d704170243",
        "colab": {
          "base_uri": "https://localhost:8080/",
          "height": 241
        }
      },
      "source": [
        "import tensorflow as tf\n",
        "\n",
        "from tensorflow.keras import datasets, layers, models\n",
        "import matplotlib.pyplot as plt\n",
        "!pip install mne==0.20.0\n",
        "# CONNECT TO GOOGLE DRIVE: Note you need to have EEG folder into MyDrive\n",
        "from google.colab import drive\n",
        "drive.mount('/content/gdrive')"
      ],
      "execution_count": 0,
      "outputs": [
        {
          "output_type": "stream",
          "text": [
            "Collecting mne==0.20.0\n",
            "\u001b[?25l  Downloading https://files.pythonhosted.org/packages/01/af/9c64ac8f75b1c932ca5fb16bc27740cd9b9817f9173a6608ae999e82bb6a/mne-0.20.0-py3-none-any.whl (6.5MB)\n",
            "\u001b[K     |████████████████████████████████| 6.6MB 3.5MB/s \n",
            "\u001b[?25hRequirement already satisfied: scipy>=0.17.1 in /usr/local/lib/python3.6/dist-packages (from mne==0.20.0) (1.4.1)\n",
            "Requirement already satisfied: numpy>=1.11.3 in /usr/local/lib/python3.6/dist-packages (from mne==0.20.0) (1.18.2)\n",
            "Installing collected packages: mne\n",
            "Successfully installed mne-0.20.0\n",
            "Go to this URL in a browser: https://accounts.google.com/o/oauth2/auth?client_id=947318989803-6bn6qk8qdgf4n4g3pfee6491hc0brc4i.apps.googleusercontent.com&redirect_uri=urn%3aietf%3awg%3aoauth%3a2.0%3aoob&response_type=code&scope=email%20https%3a%2f%2fwww.googleapis.com%2fauth%2fdocs.test%20https%3a%2f%2fwww.googleapis.com%2fauth%2fdrive%20https%3a%2f%2fwww.googleapis.com%2fauth%2fdrive.photos.readonly%20https%3a%2f%2fwww.googleapis.com%2fauth%2fpeopleapi.readonly\n",
            "\n",
            "Enter your authorization code:\n",
            "··········\n",
            "Mounted at /content/gdrive\n"
          ],
          "name": "stdout"
        }
      ]
    },
    {
      "cell_type": "code",
      "metadata": {
        "id": "dwaNOVhWAyFi",
        "colab_type": "code",
        "colab": {}
      },
      "source": [
        "import mne\n",
        "import numpy as np\n",
        "import scipy, time\n",
        "import scipy.io\n",
        "import scipy.stats\n",
        "import matplotlib\n",
        "import matplotlib.pyplot as plt\n",
        "import pandas as pd\n",
        "import sys\n",
        "\n",
        "from sklearn.pipeline import make_pipeline\n",
        "from sklearn.preprocessing import StandardScaler\n",
        "from sklearn.linear_model import LogisticRegression\n",
        "\n",
        "import mne\n",
        "from mne.datasets import sample\n",
        "from mne.decoding import (SlidingEstimator, GeneralizingEstimator,\n",
        "                          cross_val_multiscore, LinearModel, get_coef)\n"
      ],
      "execution_count": 0,
      "outputs": []
    },
    {
      "cell_type": "code",
      "metadata": {
        "id": "gVCVH1nzFtQY",
        "colab_type": "code",
        "colab": {}
      },
      "source": [
        "tmp_rootdir = '/content/gdrive/My Drive/EEG/'\n",
        "\n",
        "#path to resampled data\n",
        "resampled_dir = tmp_rootdir + 'resampled_data/'\n",
        "\n",
        "#path to store classifcation scores\n",
        "# classify_dir = tmp_rootdir + \"MNE/classification_logi_3electro/\"\n",
        "# fig_dir = classify_dir + \"Figures/\""
      ],
      "execution_count": 0,
      "outputs": []
    },
    {
      "cell_type": "code",
      "metadata": {
        "id": "KJieYJxJBbAT",
        "colab_type": "code",
        "colab": {}
      },
      "source": [
        "Mastoids = ['M1','M2']\n",
        "EOG_list = ['HEOG', 'VEOG']\n",
        "n_eeg_channels = 32\n",
        "\n",
        "subj_list = ['001']\n",
        "n_subj = len(subj_list) \n",
        "eeg_chan = []\n",
        "eeg_chan = eeg_chan + ['A' + str(i+1) for i in range(32)]\n",
        "chnames = eeg_chan + ['EXG' + str(i+1) for i in range(5)]\n",
        "blocks = ['can', 'rev']\n",
        "stimuli = ['standard', 'deviant']\n",
        "\n",
        "biosemi_layout = mne.channels.read_custom_montage(tmp_rootdir + 'biosemi_cap_32_M_2_EOG_3.locs')\n",
        "biosemi_layout.ch_names = chnames\n",
        "event_id = {'standard/can':65321,\n",
        "            'deviant/can':65322,\n",
        "            'standard/rev':65341,\n",
        "            'deviant/rev':65342,\n",
        "            'can/beer':65391,\n",
        "            'can/pier':65392,\n",
        "            'canTest1':65401,\n",
        "            'canTest2':65402,\n",
        "            'rev/beer':65491,\n",
        "            'rev/pier':65492,\n",
        "            'revTest1':65501,\n",
        "            'revTest2':65502\n",
        "            }"
      ],
      "execution_count": 0,
      "outputs": []
    },
    {
      "cell_type": "code",
      "metadata": {
        "id": "t12Eaq98E6cW",
        "colab_type": "code",
        "colab": {}
      },
      "source": [
        "##read the events from the event files instead of the stim channels in the data.\n",
        "n_subj = len(subj_list)\n",
        "classify_scores = np.zeros((91, 9))\n",
        "ave_score_by_subj = []"
      ],
      "execution_count": 0,
      "outputs": []
    },
    {
      "cell_type": "code",
      "metadata": {
        "id": "Mxss1gJsEOIj",
        "colab_type": "code",
        "outputId": "2b5e0bba-0b0f-4d04-bab2-cdf640c19fe8",
        "colab": {
          "base_uri": "https://localhost:8080/",
          "height": 323
        }
      },
      "source": [
        "subj = subj_list[0]\n",
        "\n",
        "resampled_fname = resampled_dir+ \"%s_resampled_raw.fif\" %(subj)\n",
        "raw = mne.io.read_raw_fif(resampled_fname, preload = True)\n",
        "events = mne.find_events(raw)\n",
        "raw.set_eeg_reference('average', projection = True)\n",
        "baseline = (-0.2, 0.0)\n",
        "epochs = mne.Epochs(raw, events = events, event_id=event_id, \n",
        "                    tmin = -0.2, tmax = 0.5, baseline=baseline, preload= True)"
      ],
      "execution_count": 0,
      "outputs": [
        {
          "output_type": "stream",
          "text": [
            "Opening raw data file /content/gdrive/My Drive/EEG/resampled_data/001_resampled_raw.fif...\n",
            "Isotrak not found\n",
            "    Range : 0 ... 638591 =      0.000 ...  4988.992 secs\n",
            "Ready.\n",
            "Reading 0 ... 638591  =      0.000 ...  4988.992 secs...\n",
            "Trigger channel has a non-zero initial value of 130816 (consider using initial_event=True to detect this event)\n",
            "2912 events found\n",
            "Event IDs: [65321 65322 65341 65342 65391 65392 65401 65402 65491 65492 65501 65502]\n",
            "Adding average EEG reference projection.\n",
            "1 projection items deactivated\n",
            "Average reference projection was added, but has not been applied yet. Use the apply_proj method to apply it.\n",
            "2912 matching events found\n",
            "Applying baseline correction (mode: mean)\n",
            "Not setting metadata\n",
            "Created an SSP operator (subspace dimension = 1)\n",
            "1 projection items activated\n",
            "Loading data for 2912 events and 91 original time points ...\n",
            "0 bad epochs dropped\n"
          ],
          "name": "stdout"
        }
      ]
    },
    {
      "cell_type": "code",
      "metadata": {
        "id": "V1EQTYsNQi0J",
        "colab_type": "code",
        "colab": {}
      },
      "source": [
        "#FZ = epochs.ch_names.index(epochs.ch_names[0:32])\n",
        "beer = epochs['can/beer'].crop(-0.2, 0.5)\n",
        "pier = epochs['can/pier'].crop(-0.2, 0.5)\n",
        "beer_raw = beer.get_data()[:, np.arange(32), :]\n",
        "pier_raw = pier.get_data()[:, np.arange(32), :]\n",
        "X = np.concatenate((beer_raw, pier_raw))\n",
        "Y = np.repeat([0,1], [np.shape(beer_raw)[0], np.shape(pier_raw)[0]], axis = 0)"
      ],
      "execution_count": 0,
      "outputs": []
    },
    {
      "cell_type": "code",
      "metadata": {
        "id": "W-GO-Ed9RmER",
        "colab_type": "code",
        "outputId": "039cfdd3-6bed-43b6-8a62-61158a13a85d",
        "colab": {
          "base_uri": "https://localhost:8080/",
          "height": 51
        }
      },
      "source": [
        "print(X.shape)\n",
        "print(Y.shape)"
      ],
      "execution_count": 0,
      "outputs": [
        {
          "output_type": "stream",
          "text": [
            "(780, 32, 91, 1)\n",
            "(780,)\n"
          ],
          "name": "stdout"
        }
      ]
    },
    {
      "cell_type": "code",
      "metadata": {
        "id": "HhNG4m7zICWh",
        "colab_type": "code",
        "colab": {}
      },
      "source": [
        "x# Normalize values to be between 0 and 1"
      ],
      "execution_count": 0,
      "outputs": []
    },
    {
      "cell_type": "code",
      "metadata": {
        "id": "oBjnpzrkNrNd",
        "colab_type": "code",
        "colab": {}
      },
      "source": [
        "# Convert 2D data to 3D for CNN model to run.\n",
        "X=X.reshape(len(X),len(X[0]),len(X[0][0]),1)"
      ],
      "execution_count": 0,
      "outputs": []
    },
    {
      "cell_type": "code",
      "metadata": {
        "id": "MONoBE0yIFiJ",
        "colab_type": "code",
        "colab": {}
      },
      "source": [
        "model = models.Sequential()\n",
        "model.add(layers.Conv2D(32, (3, 3), activation='relu', input_shape=(32, 91, 1)))\n",
        "model.add(layers.MaxPooling2D((2, 2)))\n",
        "model.add(layers.Conv2D(64, (3, 3), activation='relu'))\n",
        "model.add(layers.MaxPooling2D((2, 2)))\n",
        "model.add(layers.Conv2D(64, (3, 3), activation='relu'))\n",
        "\n",
        "model.add(layers.Flatten())\n",
        "model.add(layers.Dense(64, activation='relu'))\n",
        "model.add(layers.Dense(2))"
      ],
      "execution_count": 0,
      "outputs": []
    },
    {
      "cell_type": "code",
      "metadata": {
        "id": "V9ArZ4cfJYk9",
        "colab_type": "code",
        "outputId": "c327ace2-af7c-4f41-adab-61d15d5950ce",
        "colab": {
          "base_uri": "https://localhost:8080/",
          "height": 425
        }
      },
      "source": [
        "model.summary()"
      ],
      "execution_count": 0,
      "outputs": [
        {
          "output_type": "stream",
          "text": [
            "Model: \"sequential\"\n",
            "_________________________________________________________________\n",
            "Layer (type)                 Output Shape              Param #   \n",
            "=================================================================\n",
            "conv2d (Conv2D)              (None, 30, 89, 32)        320       \n",
            "_________________________________________________________________\n",
            "max_pooling2d (MaxPooling2D) (None, 15, 44, 32)        0         \n",
            "_________________________________________________________________\n",
            "conv2d_1 (Conv2D)            (None, 13, 42, 64)        18496     \n",
            "_________________________________________________________________\n",
            "max_pooling2d_1 (MaxPooling2 (None, 6, 21, 64)         0         \n",
            "_________________________________________________________________\n",
            "conv2d_2 (Conv2D)            (None, 4, 19, 64)         36928     \n",
            "_________________________________________________________________\n",
            "flatten (Flatten)            (None, 4864)              0         \n",
            "_________________________________________________________________\n",
            "dense (Dense)                (None, 64)                311360    \n",
            "_________________________________________________________________\n",
            "dense_1 (Dense)              (None, 2)                 130       \n",
            "=================================================================\n",
            "Total params: 367,234\n",
            "Trainable params: 367,234\n",
            "Non-trainable params: 0\n",
            "_________________________________________________________________\n"
          ],
          "name": "stdout"
        }
      ]
    },
    {
      "cell_type": "code",
      "metadata": {
        "id": "TZKUBZB0QzF-",
        "colab_type": "code",
        "outputId": "d25467c2-9478-4934-ddca-3f015d545d40",
        "colab": {
          "base_uri": "https://localhost:8080/",
          "height": 357
        }
      },
      "source": [
        "model.compile(optimizer='adam',\n",
        "              loss=tf.keras.losses.SparseCategoricalCrossentropy(from_logits=True),\n",
        "              metrics=['accuracy'])\n",
        "\n",
        "history = model.fit(X, Y, epochs=10)"
      ],
      "execution_count": 0,
      "outputs": [
        {
          "output_type": "stream",
          "text": [
            "Epoch 1/10\n",
            "25/25 [==============================] - 3s 116ms/step - loss: 0.6937 - accuracy: 0.4974\n",
            "Epoch 2/10\n",
            "25/25 [==============================] - 3s 113ms/step - loss: 0.6932 - accuracy: 0.5000\n",
            "Epoch 3/10\n",
            "25/25 [==============================] - 3s 113ms/step - loss: 0.6932 - accuracy: 0.4718\n",
            "Epoch 4/10\n",
            "25/25 [==============================] - 3s 114ms/step - loss: 0.6932 - accuracy: 0.4949\n",
            "Epoch 5/10\n",
            "25/25 [==============================] - 3s 115ms/step - loss: 0.6931 - accuracy: 0.5000\n",
            "Epoch 6/10\n",
            "25/25 [==============================] - 3s 115ms/step - loss: 0.6933 - accuracy: 0.5000\n",
            "Epoch 7/10\n",
            "25/25 [==============================] - 3s 114ms/step - loss: 0.6934 - accuracy: 0.5000\n",
            "Epoch 8/10\n",
            "25/25 [==============================] - 3s 115ms/step - loss: 0.6932 - accuracy: 0.5000\n",
            "Epoch 9/10\n",
            "25/25 [==============================] - 3s 115ms/step - loss: 0.6932 - accuracy: 0.5000\n",
            "Epoch 10/10\n",
            "25/25 [==============================] - 3s 114ms/step - loss: 0.6932 - accuracy: 0.5000\n"
          ],
          "name": "stdout"
        }
      ]
    },
    {
      "cell_type": "markdown",
      "metadata": {
        "id": "g90NHipjg7wm",
        "colab_type": "text"
      },
      "source": [
        "[Deep learning with cnn for EEG](https://https://arxiv.org/pdf/1703.05051.pdf)"
      ]
    },
    {
      "cell_type": "code",
      "metadata": {
        "id": "7Ne_6pvvQ_LM",
        "colab_type": "code",
        "colab": {}
      },
      "source": [
        "# shallow CNN\n",
        "conv_filters = (1, 15)\n",
        "strides = (1, 3)\n",
        "pool_size = (1, 35)\n",
        "dropoutRate = 0.1\n",
        "\n",
        "model = models.Sequential()\n",
        "model.add(layers.Conv2D(40, conv_filters, input_shape=(1, 32, 91), activation='elu'))\n",
        "model.add(layers.Conv2D(40, (1, 7), use_bias=False, activation='elu'))\n",
        "model.add(layers.BatchNormalization(axis=1, epsilon=1e-05, momentum=0.1))\n",
        "model.add(layers.MaxPooling2D((1, 2), strides=strides))\n",
        "model.add(layers.Dropout(dropoutRate))\n",
        "model.add(layers.Flatten())\n",
        "model.add(layers.Dense(2))\n",
        "model.add(layers.Activation('softmax'))"
      ],
      "execution_count": 0,
      "outputs": []
    },
    {
      "cell_type": "code",
      "metadata": {
        "id": "aQGazYkSg04t",
        "colab_type": "code",
        "colab": {
          "base_uri": "https://localhost:8080/",
          "height": 425
        },
        "outputId": "fcc18873-ee64-44ca-c658-1f56fcccb395"
      },
      "source": [
        "model.summary()"
      ],
      "execution_count": 44,
      "outputs": [
        {
          "output_type": "stream",
          "text": [
            "Model: \"sequential_24\"\n",
            "_________________________________________________________________\n",
            "Layer (type)                 Output Shape              Param #   \n",
            "=================================================================\n",
            "conv2d_38 (Conv2D)           (None, 1, 18, 40)         54640     \n",
            "_________________________________________________________________\n",
            "conv2d_39 (Conv2D)           (None, 1, 12, 40)         11200     \n",
            "_________________________________________________________________\n",
            "batch_normalization_21 (Batc (None, 1, 12, 40)         4         \n",
            "_________________________________________________________________\n",
            "max_pooling2d_24 (MaxPooling (None, 1, 4, 40)          0         \n",
            "_________________________________________________________________\n",
            "dropout_20 (Dropout)         (None, 1, 4, 40)          0         \n",
            "_________________________________________________________________\n",
            "flatten_21 (Flatten)         (None, 160)               0         \n",
            "_________________________________________________________________\n",
            "dense_21 (Dense)             (None, 2)                 322       \n",
            "_________________________________________________________________\n",
            "activation_19 (Activation)   (None, 2)                 0         \n",
            "=================================================================\n",
            "Total params: 66,166\n",
            "Trainable params: 66,164\n",
            "Non-trainable params: 2\n",
            "_________________________________________________________________\n"
          ],
          "name": "stdout"
        }
      ]
    },
    {
      "cell_type": "code",
      "metadata": {
        "id": "7iHQeBRwb8s9",
        "colab_type": "code",
        "colab": {
          "base_uri": "https://localhost:8080/",
          "height": 1000
        },
        "outputId": "658f32f2-27f6-4273-c620-a793c570ba33"
      },
      "source": [
        "X = X.reshape(780,1,32,91)\n",
        "\n",
        "model.compile(optimizer='adam',\n",
        "              loss=tf.keras.losses.SparseCategoricalCrossentropy(from_logits=True),\n",
        "              metrics=['accuracy'])\n",
        "\n",
        "history = model.fit(X, Y, epochs=50)"
      ],
      "execution_count": 45,
      "outputs": [
        {
          "output_type": "stream",
          "text": [
            "Epoch 1/50\n",
            "25/25 [==============================] - 0s 12ms/step - loss: 0.7491 - accuracy: 0.5256\n",
            "Epoch 2/50\n",
            "25/25 [==============================] - 0s 12ms/step - loss: 0.7190 - accuracy: 0.5077\n",
            "Epoch 3/50\n",
            "25/25 [==============================] - 0s 12ms/step - loss: 0.7207 - accuracy: 0.5064\n",
            "Epoch 4/50\n",
            "25/25 [==============================] - 0s 11ms/step - loss: 0.6914 - accuracy: 0.5372\n",
            "Epoch 5/50\n",
            "25/25 [==============================] - 0s 12ms/step - loss: 0.7015 - accuracy: 0.5090\n",
            "Epoch 6/50\n",
            "25/25 [==============================] - 0s 12ms/step - loss: 0.6978 - accuracy: 0.5231\n",
            "Epoch 7/50\n",
            "25/25 [==============================] - 0s 12ms/step - loss: 0.6378 - accuracy: 0.6462\n",
            "Epoch 8/50\n",
            "25/25 [==============================] - 0s 11ms/step - loss: 0.5927 - accuracy: 0.7000\n",
            "Epoch 9/50\n",
            "25/25 [==============================] - 0s 12ms/step - loss: 0.5575 - accuracy: 0.7436\n",
            "Epoch 10/50\n",
            "25/25 [==============================] - 0s 12ms/step - loss: 0.5463 - accuracy: 0.7615\n",
            "Epoch 11/50\n",
            "25/25 [==============================] - 0s 11ms/step - loss: 0.5374 - accuracy: 0.7833\n",
            "Epoch 12/50\n",
            "25/25 [==============================] - 0s 12ms/step - loss: 0.5407 - accuracy: 0.7641\n",
            "Epoch 13/50\n",
            "25/25 [==============================] - 0s 12ms/step - loss: 0.5357 - accuracy: 0.7744\n",
            "Epoch 14/50\n",
            "25/25 [==============================] - 0s 11ms/step - loss: 0.5244 - accuracy: 0.7808\n",
            "Epoch 15/50\n",
            "25/25 [==============================] - 0s 11ms/step - loss: 0.5182 - accuracy: 0.7859\n",
            "Epoch 16/50\n",
            "25/25 [==============================] - 0s 11ms/step - loss: 0.5182 - accuracy: 0.7872\n",
            "Epoch 17/50\n",
            "25/25 [==============================] - 0s 12ms/step - loss: 0.5153 - accuracy: 0.7936\n",
            "Epoch 18/50\n",
            "25/25 [==============================] - 0s 11ms/step - loss: 0.5174 - accuracy: 0.8038\n",
            "Epoch 19/50\n",
            "25/25 [==============================] - 0s 12ms/step - loss: 0.5070 - accuracy: 0.8167\n",
            "Epoch 20/50\n",
            "25/25 [==============================] - 0s 12ms/step - loss: 0.5013 - accuracy: 0.8154\n",
            "Epoch 21/50\n",
            "25/25 [==============================] - 0s 11ms/step - loss: 0.5042 - accuracy: 0.8167\n",
            "Epoch 22/50\n",
            "25/25 [==============================] - 0s 11ms/step - loss: 0.5017 - accuracy: 0.8038\n",
            "Epoch 23/50\n",
            "25/25 [==============================] - 0s 11ms/step - loss: 0.4952 - accuracy: 0.8192\n",
            "Epoch 24/50\n",
            "25/25 [==============================] - 0s 11ms/step - loss: 0.4972 - accuracy: 0.8256\n",
            "Epoch 25/50\n",
            "25/25 [==============================] - 0s 11ms/step - loss: 0.5021 - accuracy: 0.8115\n",
            "Epoch 26/50\n",
            "25/25 [==============================] - 0s 11ms/step - loss: 0.4903 - accuracy: 0.8167\n",
            "Epoch 27/50\n",
            "25/25 [==============================] - 0s 12ms/step - loss: 0.4882 - accuracy: 0.8192\n",
            "Epoch 28/50\n",
            "25/25 [==============================] - 0s 11ms/step - loss: 0.4972 - accuracy: 0.8103\n",
            "Epoch 29/50\n",
            "25/25 [==============================] - 0s 11ms/step - loss: 0.4816 - accuracy: 0.8244\n",
            "Epoch 30/50\n",
            "25/25 [==============================] - 0s 12ms/step - loss: 0.4803 - accuracy: 0.8308\n",
            "Epoch 31/50\n",
            "25/25 [==============================] - 0s 11ms/step - loss: 0.4824 - accuracy: 0.8256\n",
            "Epoch 32/50\n",
            "25/25 [==============================] - 0s 11ms/step - loss: 0.4766 - accuracy: 0.8397\n",
            "Epoch 33/50\n",
            "25/25 [==============================] - 0s 11ms/step - loss: 0.4761 - accuracy: 0.8462\n",
            "Epoch 34/50\n",
            "25/25 [==============================] - 0s 12ms/step - loss: 0.4702 - accuracy: 0.8462\n",
            "Epoch 35/50\n",
            "25/25 [==============================] - 0s 11ms/step - loss: 0.4834 - accuracy: 0.8372\n",
            "Epoch 36/50\n",
            "25/25 [==============================] - 0s 11ms/step - loss: 0.4741 - accuracy: 0.8487\n",
            "Epoch 37/50\n",
            "25/25 [==============================] - 0s 11ms/step - loss: 0.4715 - accuracy: 0.8436\n",
            "Epoch 38/50\n",
            "25/25 [==============================] - 0s 11ms/step - loss: 0.4654 - accuracy: 0.8551\n",
            "Epoch 39/50\n",
            "25/25 [==============================] - 0s 12ms/step - loss: 0.4605 - accuracy: 0.8500\n",
            "Epoch 40/50\n",
            "25/25 [==============================] - 0s 12ms/step - loss: 0.4574 - accuracy: 0.8641\n",
            "Epoch 41/50\n",
            "25/25 [==============================] - 0s 11ms/step - loss: 0.4671 - accuracy: 0.8500\n",
            "Epoch 42/50\n",
            "25/25 [==============================] - 0s 12ms/step - loss: 0.4521 - accuracy: 0.8615\n",
            "Epoch 43/50\n",
            "25/25 [==============================] - 0s 11ms/step - loss: 0.4582 - accuracy: 0.8551\n",
            "Epoch 44/50\n",
            "25/25 [==============================] - 0s 12ms/step - loss: 0.4464 - accuracy: 0.8731\n",
            "Epoch 45/50\n",
            "25/25 [==============================] - 0s 11ms/step - loss: 0.4582 - accuracy: 0.8628\n",
            "Epoch 46/50\n",
            "25/25 [==============================] - 0s 12ms/step - loss: 0.4530 - accuracy: 0.8679\n",
            "Epoch 47/50\n",
            "25/25 [==============================] - 0s 11ms/step - loss: 0.4421 - accuracy: 0.8769\n",
            "Epoch 48/50\n",
            "25/25 [==============================] - 0s 11ms/step - loss: 0.4500 - accuracy: 0.8641\n",
            "Epoch 49/50\n",
            "25/25 [==============================] - 0s 11ms/step - loss: 0.4442 - accuracy: 0.8744\n",
            "Epoch 50/50\n",
            "25/25 [==============================] - 0s 10ms/step - loss: 0.4400 - accuracy: 0.8782\n"
          ],
          "name": "stdout"
        }
      ]
    },
    {
      "cell_type": "code",
      "metadata": {
        "id": "P42Dn4nPg5oP",
        "colab_type": "code",
        "colab": {
          "base_uri": "https://localhost:8080/",
          "height": 170
        },
        "outputId": "46c7f775-26fa-485d-d289-e0f4da42815c"
      },
      "source": [
        "Y_pred = np.zeros(len(Y))\n",
        "i = 0\n",
        "for y_hat,_ in model.predict(X):\n",
        "    if y_hat >= 0.5:\n",
        "        Y_pred[i] = 0\n",
        "    else:\n",
        "        Y_pred[i] = 1\n",
        "    i += 1\n",
        "\n",
        "from sklearn.metrics import classification_report\n",
        "print(classification_report(Y, Y_pred, target_names=['beer', 'pier']))"
      ],
      "execution_count": 51,
      "outputs": [
        {
          "output_type": "stream",
          "text": [
            "              precision    recall  f1-score   support\n",
            "\n",
            "        beer       0.90      0.84      0.87       390\n",
            "        pier       0.85      0.91      0.87       390\n",
            "\n",
            "    accuracy                           0.87       780\n",
            "   macro avg       0.87      0.87      0.87       780\n",
            "weighted avg       0.87      0.87      0.87       780\n",
            "\n"
          ],
          "name": "stdout"
        }
      ]
    },
    {
      "cell_type": "code",
      "metadata": {
        "id": "fO9eWSZwo9ee",
        "colab_type": "code",
        "colab": {}
      },
      "source": [
        ""
      ],
      "execution_count": 0,
      "outputs": []
    }
  ]
}